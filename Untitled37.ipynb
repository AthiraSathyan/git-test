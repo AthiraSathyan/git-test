{
  "nbformat": 4,
  "nbformat_minor": 0,
  "metadata": {
    "colab": {
      "name": "Untitled37.ipynb",
      "provenance": [],
      "authorship_tag": "ABX9TyMhft9nUSm8/1AI4QvnS7W3",
      "include_colab_link": true
    },
    "kernelspec": {
      "name": "python3",
      "display_name": "Python 3"
    }
  },
  "cells": [
    {
      "cell_type": "markdown",
      "metadata": {
        "id": "view-in-github",
        "colab_type": "text"
      },
      "source": [
        "<a href=\"https://colab.research.google.com/github/AthiraSathyan/git-test/blob/master/Untitled37.ipynb\" target=\"_parent\"><img src=\"https://colab.research.google.com/assets/colab-badge.svg\" alt=\"Open In Colab\"/></a>"
      ]
    },
    {
      "cell_type": "code",
      "metadata": {
        "colab": {
          "base_uri": "https://localhost:8080/"
        },
        "id": "Ys2rGks4kPzt",
        "outputId": "841d7c62-5ad2-49dc-dcbc-874280c761cc"
      },
      "source": [
        "'''division of positive numbers'''\r\n",
        "try:\r\n",
        "  a=int(input(\"Enter a\"))\r\n",
        "  b=int(input(\"enter b\"))\r\n",
        "  assert b!=0,\"Abnormal condition\"\r\n",
        "  try:\r\n",
        "    if a<0 or b<0:\r\n",
        "      raise ValueError(\"unexpected number\")\r\n",
        "  except ValueError as ve:\r\n",
        "    print(ve)\r\n",
        "    raise \r\n",
        "  else:\r\n",
        "    print(\"Value accepted\")\r\n",
        "    print(\"%d/%d=%f\"%(a,b,a/b))\r\n",
        "except AssertionError as ae:\r\n",
        "    print(ae)\r\n",
        "except ValueError as ve:\r\n",
        "  print(\"Re-raised Exception-\",ve)"
      ],
      "execution_count": null,
      "outputs": [
        {
          "output_type": "stream",
          "text": [
            "Enter a2\n",
            "enter b0\n",
            "Abnormal condition\n"
          ],
          "name": "stdout"
        }
      ]
    }
  ]
}